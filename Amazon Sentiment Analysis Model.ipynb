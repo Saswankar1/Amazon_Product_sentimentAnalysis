{
 "cells": [
  {
   "cell_type": "code",
   "execution_count": null,
   "metadata": {
    "_cell_guid": "b1076dfc-b9ad-4769-8c92-a6c4dae69d19",
    "_uuid": "8f2839f25d086af736a60e9eeb907d3b93b6e0e5",
    "execution": {
     "iopub.execute_input": "2024-04-28T13:17:32.137028Z",
     "iopub.status.busy": "2024-04-28T13:17:32.136636Z",
     "iopub.status.idle": "2024-04-28T13:17:33.431824Z",
     "shell.execute_reply": "2024-04-28T13:17:33.430624Z",
     "shell.execute_reply.started": "2024-04-28T13:17:32.136996Z"
    }
   },
   "outputs": [],
   "source": [
    "# This Python 3 environment comes with many helpful analytics libraries installed\n",
    "# It is defined by the kaggle/python Docker image: https://github.com/kaggle/docker-python\n",
    "# For example, here's several helpful packages to load\n",
    "\n",
    "import numpy as np # linear algebra\n",
    "import pandas as pd # data processing, CSV file I/O (e.g. pd.read_csv)\n",
    "\n",
    "# Input data files are available in the read-only \"../input/\" directory\n",
    "# For example, running this (by clicking run or pressing Shift+Enter) will list all files under the input directory\n",
    "\n",
    "# You can write up to 20GB to the current directory (/kaggle/working/) that gets preserved as output when you create a version using \"Save & Run All\" \n",
    "# You can also write temporary files to /kaggle/temp/, but they won't be saved outside of the current session"
   ]
  },
  {
   "cell_type": "code",
   "execution_count": 17,
   "metadata": {
    "execution": {
     "iopub.execute_input": "2024-04-28T13:17:33.435144Z",
     "iopub.status.busy": "2024-04-28T13:17:33.434239Z",
     "iopub.status.idle": "2024-04-28T13:17:33.898606Z",
     "shell.execute_reply": "2024-04-28T13:17:33.897458Z",
     "shell.execute_reply.started": "2024-04-28T13:17:33.435108Z"
    }
   },
   "outputs": [],
   "source": [
    "import pandas as pd\n",
    "df=pd.read_csv(\"Amazon-Product-Reviews - Amazon Product Review (1).csv\")"
   ]
  },
  {
   "cell_type": "code",
   "execution_count": 18,
   "metadata": {},
   "outputs": [
    {
     "data": {
      "text/html": [
       "<div>\n",
       "<style scoped>\n",
       "    .dataframe tbody tr th:only-of-type {\n",
       "        vertical-align: middle;\n",
       "    }\n",
       "\n",
       "    .dataframe tbody tr th {\n",
       "        vertical-align: top;\n",
       "    }\n",
       "\n",
       "    .dataframe thead th {\n",
       "        text-align: right;\n",
       "    }\n",
       "</style>\n",
       "<table border=\"1\" class=\"dataframe\">\n",
       "  <thead>\n",
       "    <tr style=\"text-align: right;\">\n",
       "      <th></th>\n",
       "      <th>marketplace</th>\n",
       "      <th>customer_id</th>\n",
       "      <th>review_id</th>\n",
       "      <th>product_id</th>\n",
       "      <th>product_parent</th>\n",
       "      <th>product_title</th>\n",
       "      <th>product_category</th>\n",
       "      <th>star_rating</th>\n",
       "      <th>helpful_votes</th>\n",
       "      <th>total_votes</th>\n",
       "      <th>vine</th>\n",
       "      <th>verified_purchase</th>\n",
       "      <th>review_headline</th>\n",
       "      <th>review_body</th>\n",
       "      <th>review_date</th>\n",
       "      <th>sentiment</th>\n",
       "    </tr>\n",
       "  </thead>\n",
       "  <tbody>\n",
       "    <tr>\n",
       "      <th>0</th>\n",
       "      <td>US</td>\n",
       "      <td>11555559</td>\n",
       "      <td>R1QXC7AHHJBQ3O</td>\n",
       "      <td>B00IKPX4GY</td>\n",
       "      <td>2693241</td>\n",
       "      <td>Fire HD 7, 7\" HD Display, Wi-Fi, 8 GB</td>\n",
       "      <td>PC</td>\n",
       "      <td>5</td>\n",
       "      <td>0</td>\n",
       "      <td>0</td>\n",
       "      <td>N</td>\n",
       "      <td>Y</td>\n",
       "      <td>Five Stars</td>\n",
       "      <td>Great love it</td>\n",
       "      <td>2015-08-31</td>\n",
       "      <td>1</td>\n",
       "    </tr>\n",
       "    <tr>\n",
       "      <th>1</th>\n",
       "      <td>US</td>\n",
       "      <td>31469372</td>\n",
       "      <td>R175VSRV6ZETOP</td>\n",
       "      <td>B00IKPYKWG</td>\n",
       "      <td>2693241</td>\n",
       "      <td>Fire HD 7, 7\" HD Display, Wi-Fi, 8 GB</td>\n",
       "      <td>PC</td>\n",
       "      <td>3</td>\n",
       "      <td>0</td>\n",
       "      <td>0</td>\n",
       "      <td>N</td>\n",
       "      <td>N</td>\n",
       "      <td>Lots of ads Slow processing speed Occasionally...</td>\n",
       "      <td>Lots of ads&lt;br /&gt;Slow processing speed&lt;br /&gt;Oc...</td>\n",
       "      <td>2015-08-31</td>\n",
       "      <td>0</td>\n",
       "    </tr>\n",
       "    <tr>\n",
       "      <th>2</th>\n",
       "      <td>US</td>\n",
       "      <td>26843895</td>\n",
       "      <td>R2HRFF78MWGY19</td>\n",
       "      <td>B00IKPW0UA</td>\n",
       "      <td>2693241</td>\n",
       "      <td>Fire HD 7, 7\" HD Display, Wi-Fi, 8 GB</td>\n",
       "      <td>PC</td>\n",
       "      <td>5</td>\n",
       "      <td>0</td>\n",
       "      <td>0</td>\n",
       "      <td>N</td>\n",
       "      <td>Y</td>\n",
       "      <td>Well thought out device</td>\n",
       "      <td>Excellent unit.  The versatility of this table...</td>\n",
       "      <td>2015-08-31</td>\n",
       "      <td>1</td>\n",
       "    </tr>\n",
       "    <tr>\n",
       "      <th>3</th>\n",
       "      <td>US</td>\n",
       "      <td>19844868</td>\n",
       "      <td>R8Q39WPKYVSTX</td>\n",
       "      <td>B00LCHSHMS</td>\n",
       "      <td>2693241</td>\n",
       "      <td>Fire HD 7, 7\" HD Display, Wi-Fi, 8 GB</td>\n",
       "      <td>PC</td>\n",
       "      <td>4</td>\n",
       "      <td>0</td>\n",
       "      <td>0</td>\n",
       "      <td>N</td>\n",
       "      <td>N</td>\n",
       "      <td>Not all apps/games we were looking forward to ...</td>\n",
       "      <td>I bought this on Amazon Prime so I ended up bu...</td>\n",
       "      <td>2015-08-31</td>\n",
       "      <td>1</td>\n",
       "    </tr>\n",
       "    <tr>\n",
       "      <th>4</th>\n",
       "      <td>US</td>\n",
       "      <td>1189852</td>\n",
       "      <td>R3RL4C8YP2ZCJL</td>\n",
       "      <td>B00IKPZ5V6</td>\n",
       "      <td>2693241</td>\n",
       "      <td>Fire HD 7, 7\" HD Display, Wi-Fi, 8 GB</td>\n",
       "      <td>PC</td>\n",
       "      <td>5</td>\n",
       "      <td>0</td>\n",
       "      <td>0</td>\n",
       "      <td>N</td>\n",
       "      <td>Y</td>\n",
       "      <td>Five Stars</td>\n",
       "      <td>All Amazon products continue to meet my expect...</td>\n",
       "      <td>2015-08-31</td>\n",
       "      <td>1</td>\n",
       "    </tr>\n",
       "  </tbody>\n",
       "</table>\n",
       "</div>"
      ],
      "text/plain": [
       "  marketplace  customer_id       review_id  product_id  product_parent  \\\n",
       "0          US     11555559  R1QXC7AHHJBQ3O  B00IKPX4GY         2693241   \n",
       "1          US     31469372  R175VSRV6ZETOP  B00IKPYKWG         2693241   \n",
       "2          US     26843895  R2HRFF78MWGY19  B00IKPW0UA         2693241   \n",
       "3          US     19844868   R8Q39WPKYVSTX  B00LCHSHMS         2693241   \n",
       "4          US      1189852  R3RL4C8YP2ZCJL  B00IKPZ5V6         2693241   \n",
       "\n",
       "                           product_title product_category  star_rating  \\\n",
       "0  Fire HD 7, 7\" HD Display, Wi-Fi, 8 GB               PC            5   \n",
       "1  Fire HD 7, 7\" HD Display, Wi-Fi, 8 GB               PC            3   \n",
       "2  Fire HD 7, 7\" HD Display, Wi-Fi, 8 GB               PC            5   \n",
       "3  Fire HD 7, 7\" HD Display, Wi-Fi, 8 GB               PC            4   \n",
       "4  Fire HD 7, 7\" HD Display, Wi-Fi, 8 GB               PC            5   \n",
       "\n",
       "   helpful_votes  total_votes vine verified_purchase  \\\n",
       "0              0            0    N                 Y   \n",
       "1              0            0    N                 N   \n",
       "2              0            0    N                 Y   \n",
       "3              0            0    N                 N   \n",
       "4              0            0    N                 Y   \n",
       "\n",
       "                                     review_headline  \\\n",
       "0                                         Five Stars   \n",
       "1  Lots of ads Slow processing speed Occasionally...   \n",
       "2                            Well thought out device   \n",
       "3  Not all apps/games we were looking forward to ...   \n",
       "4                                         Five Stars   \n",
       "\n",
       "                                         review_body review_date  sentiment  \n",
       "0                                      Great love it  2015-08-31          1  \n",
       "1  Lots of ads<br />Slow processing speed<br />Oc...  2015-08-31          0  \n",
       "2  Excellent unit.  The versatility of this table...  2015-08-31          1  \n",
       "3  I bought this on Amazon Prime so I ended up bu...  2015-08-31          1  \n",
       "4  All Amazon products continue to meet my expect...  2015-08-31          1  "
      ]
     },
     "execution_count": 18,
     "metadata": {},
     "output_type": "execute_result"
    }
   ],
   "source": [
    "df.head()"
   ]
  },
  {
   "cell_type": "code",
   "execution_count": 19,
   "metadata": {
    "execution": {
     "iopub.execute_input": "2024-04-28T13:17:33.900468Z",
     "iopub.status.busy": "2024-04-28T13:17:33.90002Z",
     "iopub.status.idle": "2024-04-28T13:17:35.903597Z",
     "shell.execute_reply": "2024-04-28T13:17:35.899463Z",
     "shell.execute_reply.started": "2024-04-28T13:17:33.900431Z"
    }
   },
   "outputs": [],
   "source": [
    "# Import necessary libraries\n",
    "\n",
    "# sklearn.model_selection is used for splitting data into training and testing sets\n",
    "from sklearn.model_selection import train_test_split\n",
    "\n",
    "# sklearn.feature_extraction.text provides tools for converting text data into numerical feature vectors (TF-IDF here)\n",
    "from sklearn.feature_extraction.text import TfidfVectorizer\n",
    "\n",
    "# sklearn.metrics contains functions to evaluate model performance (accuracy_score, classification_report)\n",
    "from sklearn.metrics import accuracy_score, classification_report\n",
    "\n",
    "# sklearn.ensemble includes ensemble learning methods such as RandomForestClassifier\n",
    "from sklearn.ensemble import RandomForestClassifier\n"
   ]
  },
  {
   "cell_type": "code",
   "execution_count": 20,
   "metadata": {
    "execution": {
     "iopub.execute_input": "2024-04-28T13:17:35.907897Z",
     "iopub.status.busy": "2024-04-28T13:17:35.906975Z",
     "iopub.status.idle": "2024-04-28T13:17:35.923257Z",
     "shell.execute_reply": "2024-04-28T13:17:35.920101Z",
     "shell.execute_reply.started": "2024-04-28T13:17:35.907852Z"
    }
   },
   "outputs": [],
   "source": [
    "#Prepare the data \n",
    "X=df['review_body']\n",
    "y=df['sentiment']"
   ]
  },
  {
   "cell_type": "code",
   "execution_count": 21,
   "metadata": {
    "execution": {
     "iopub.execute_input": "2024-04-28T13:17:35.928691Z",
     "iopub.status.busy": "2024-04-28T13:17:35.927381Z",
     "iopub.status.idle": "2024-04-28T13:17:35.949296Z",
     "shell.execute_reply": "2024-04-28T13:17:35.947826Z",
     "shell.execute_reply.started": "2024-04-28T13:17:35.928642Z"
    }
   },
   "outputs": [],
   "source": [
    "#Split the data into training and testing sets\n",
    "X_train,X_test, y_train, y_test=train_test_split(X,y, test_size=0.2, random_state=42)"
   ]
  },
  {
   "cell_type": "code",
   "execution_count": 22,
   "metadata": {
    "execution": {
     "iopub.execute_input": "2024-04-28T13:17:35.9524Z",
     "iopub.status.busy": "2024-04-28T13:17:35.951516Z",
     "iopub.status.idle": "2024-04-28T13:17:35.957539Z",
     "shell.execute_reply": "2024-04-28T13:17:35.956198Z",
     "shell.execute_reply.started": "2024-04-28T13:17:35.952352Z"
    }
   },
   "outputs": [],
   "source": [
    "# Example: Fill NaN values with an empty string\n",
    "# X_train_filled = X_train.fillna('')\n",
    "# X_test_filled = X_test.fillna('')"
   ]
  },
  {
   "cell_type": "code",
   "execution_count": 23,
   "metadata": {
    "execution": {
     "iopub.execute_input": "2024-04-28T13:17:35.976151Z",
     "iopub.status.busy": "2024-04-28T13:17:35.975015Z",
     "iopub.status.idle": "2024-04-28T13:17:35.99759Z",
     "shell.execute_reply": "2024-04-28T13:17:35.995618Z",
     "shell.execute_reply.started": "2024-04-28T13:17:35.976104Z"
    }
   },
   "outputs": [],
   "source": [
    "df['review_body'].fillna('', inplace=True)  # Replace NaN with empty string\n"
   ]
  },
  {
   "cell_type": "code",
   "execution_count": 24,
   "metadata": {
    "execution": {
     "iopub.execute_input": "2024-04-28T13:17:36.000686Z",
     "iopub.status.busy": "2024-04-28T13:17:35.999754Z",
     "iopub.status.idle": "2024-04-28T13:17:37.744984Z",
     "shell.execute_reply": "2024-04-28T13:17:37.743743Z",
     "shell.execute_reply.started": "2024-04-28T13:17:36.00051Z"
    }
   },
   "outputs": [],
   "source": [
    "from sklearn.feature_extraction.text import TfidfVectorizer\n",
    "# this code snippet demonstrates how to use TfidfVectorizer to preprocess and convert text data into a numerical format suitable for machine learning models, particularly for tasks like text classification or sentiment analysis. \\\n",
    "# The resulting TF-IDF vectors (X_train_vect) can be used as input features for training machine learning models.\n",
    "\n",
    "# Vectorize the text data using TF-IDF\n",
    "vectorizer = TfidfVectorizer(max_features=1000)\n",
    "X_train_vect = vectorizer.fit_transform(df['review_body'])  # Assuming 'review_body' is the column name containing text data in your DataFrame\n",
    "\n",
    "\n"
   ]
  },
  {
   "cell_type": "code",
   "execution_count": 25,
   "metadata": {
    "execution": {
     "iopub.execute_input": "2024-04-28T13:17:37.749131Z",
     "iopub.status.busy": "2024-04-28T13:17:37.748773Z",
     "iopub.status.idle": "2024-04-28T13:17:38.076197Z",
     "shell.execute_reply": "2024-04-28T13:17:38.074801Z",
     "shell.execute_reply.started": "2024-04-28T13:17:37.749101Z"
    }
   },
   "outputs": [],
   "source": [
    "X_test_vect=vectorizer.transform(X_test)"
   ]
  },
  {
   "cell_type": "code",
   "execution_count": 26,
   "metadata": {
    "execution": {
     "iopub.execute_input": "2024-04-28T13:17:38.079391Z",
     "iopub.status.busy": "2024-04-28T13:17:38.078833Z",
     "iopub.status.idle": "2024-04-28T13:17:38.094397Z",
     "shell.execute_reply": "2024-04-28T13:17:38.093474Z",
     "shell.execute_reply.started": "2024-04-28T13:17:38.079279Z"
    }
   },
   "outputs": [],
   "source": [
    "# Split the data into training and testing sets\n",
    "X_train, X_test, y_train, y_test = train_test_split(X_train_vect, df['sentiment'], test_size=0.2, random_state=42)\n"
   ]
  },
  {
   "cell_type": "code",
   "execution_count": 27,
   "metadata": {
    "execution": {
     "iopub.execute_input": "2024-04-28T13:17:38.096156Z",
     "iopub.status.busy": "2024-04-28T13:17:38.095647Z",
     "iopub.status.idle": "2024-04-28T13:18:23.945498Z",
     "shell.execute_reply": "2024-04-28T13:18:23.944244Z",
     "shell.execute_reply.started": "2024-04-28T13:17:38.096125Z"
    }
   },
   "outputs": [
    {
     "data": {
      "text/plain": [
       "SVC(kernel='linear', random_state=42)"
      ]
     },
     "execution_count": 27,
     "metadata": {},
     "output_type": "execute_result"
    }
   ],
   "source": [
    "#Training the classifier\n",
    "from sklearn.svm import SVC\n",
    "classifier=SVC(kernel='linear', random_state=42)\n",
    "classifier.fit(X_train, y_train)"
   ]
  },
  {
   "cell_type": "code",
   "execution_count": 28,
   "metadata": {
    "execution": {
     "iopub.execute_input": "2024-04-28T13:23:58.963691Z",
     "iopub.status.busy": "2024-04-28T13:23:58.963164Z",
     "iopub.status.idle": "2024-04-28T13:24:06.764041Z",
     "shell.execute_reply": "2024-04-28T13:24:06.762672Z",
     "shell.execute_reply.started": "2024-04-28T13:23:58.963656Z"
    }
   },
   "outputs": [],
   "source": [
    "#Making predictions \n",
    "y_pred=classifier.predict(X_test)"
   ]
  },
  {
   "cell_type": "code",
   "execution_count": 29,
   "metadata": {
    "execution": {
     "iopub.execute_input": "2024-04-28T13:25:21.50657Z",
     "iopub.status.busy": "2024-04-28T13:25:21.506076Z",
     "iopub.status.idle": "2024-04-28T13:25:21.537055Z",
     "shell.execute_reply": "2024-04-28T13:25:21.535416Z",
     "shell.execute_reply.started": "2024-04-28T13:25:21.506536Z"
    }
   },
   "outputs": [],
   "source": [
    "#Evaluating the model\n",
    "accuracy=accuracy_score(y_test, y_pred)\n",
    "report=classification_report(y_test, y_pred)"
   ]
  },
  {
   "cell_type": "code",
   "execution_count": 16,
   "metadata": {
    "execution": {
     "iopub.execute_input": "2024-04-28T13:27:34.292246Z",
     "iopub.status.busy": "2024-04-28T13:27:34.291737Z",
     "iopub.status.idle": "2024-04-28T13:27:34.298935Z",
     "shell.execute_reply": "2024-04-28T13:27:34.297563Z",
     "shell.execute_reply.started": "2024-04-28T13:27:34.292201Z"
    }
   },
   "outputs": [
    {
     "name": "stdout",
     "output_type": "stream",
     "text": [
      "Accuracy:0.9087520259319287\n",
      "Classification Report:n\\              precision    recall  f1-score   support\n",
      "\n",
      "           0       0.77      0.64      0.70      1018\n",
      "           1       0.93      0.96      0.95      5152\n",
      "\n",
      "    accuracy                           0.91      6170\n",
      "   macro avg       0.85      0.80      0.82      6170\n",
      "weighted avg       0.90      0.91      0.91      6170\n",
      "\n"
     ]
    }
   ],
   "source": [
    "#Print the evaluation matrics\n",
    "print(f\"Accuracy:{accuracy}\")\n",
    "print(f\"Classification Report:n\\{report}\")"
   ]
  },
  {
   "cell_type": "markdown",
   "metadata": {},
   "source": [
    "# Conclusion"
   ]
  },
  {
   "cell_type": "markdown",
   "metadata": {},
   "source": [
    "The model performs well overall, particularly in identifying positive sentiment (`1`), with high precision and recall.\n",
    "However, there is some room for improvement in identifying negative sentiment (`0`), where the precision and recall are relatively lower compared to the positive class. \n",
    "Overall, the model's performance is strong, achieving an accuracy of approximately 90.88% on the test dataset."
   ]
  },
  {
   "cell_type": "code",
   "execution_count": null,
   "metadata": {},
   "outputs": [],
   "source": []
  }
 ],
 "metadata": {
  "kaggle": {
   "accelerator": "none",
   "dataSources": [
    {
     "datasetId": 4667471,
     "sourceId": 7939164,
     "sourceType": "datasetVersion"
    }
   ],
   "dockerImageVersionId": 30698,
   "isGpuEnabled": false,
   "isInternetEnabled": false,
   "language": "python",
   "sourceType": "notebook"
  },
  "kernelspec": {
   "display_name": "Python 3 (ipykernel)",
   "language": "python",
   "name": "python3"
  },
  "language_info": {
   "codemirror_mode": {
    "name": "ipython",
    "version": 3
   },
   "file_extension": ".py",
   "mimetype": "text/x-python",
   "name": "python",
   "nbconvert_exporter": "python",
   "pygments_lexer": "ipython3",
   "version": "3.9.12"
  }
 },
 "nbformat": 4,
 "nbformat_minor": 4
}
